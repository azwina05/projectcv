{
 "cells": [
  {
   "cell_type": "code",
   "execution_count": null,
   "id": "f8ed1bfd-186e-4d63-b076-9eb8148418e7",
   "metadata": {},
   "outputs": [],
   "source": [
    "import numpy as np\n",
    "import cv2"
   ]
  },
  {
   "cell_type": "code",
   "execution_count": null,
   "id": "f7da208d-6f8d-4250-a9b1-ac5242589332",
   "metadata": {},
   "outputs": [],
   "source": [
    "img=cv2.imread('./scenary.jpeg')"
   ]
  },
  {
   "cell_type": "code",
   "execution_count": null,
   "id": "92dfd133-25a7-4cd6-a047-e9d885b566fc",
   "metadata": {},
   "outputs": [],
   "source": [
    "print(img)"
   ]
  },
  {
   "cell_type": "code",
   "execution_count": null,
   "id": "18b0f589-8f40-402b-b4b5-6179334d6b04",
   "metadata": {},
   "outputs": [],
   "source": [
    "import cv2 as cv\n",
    "gray_img=cv.cvtColor(img, cv.COLOR_BGR2GRAY)\n",
    "(thresh, binary)=cv.threshold (gray_img, 127, 255, cv. THRESH_BINARY)\n",
    "cv.imshow(\"orginal_image\", img)\n",
    "cv.imshow(\"gray_img\", gray_img)\n",
    "cv.imshow(\"Black and white\", binary)\n",
    "cv.waitKey(0)\n",
    "cv.destroyAllWindows()"
   ]
  },
  {
   "cell_type": "code",
   "execution_count": null,
   "id": "6d15ddf2-3b04-4db8-b005-14ffb3deeda1",
   "metadata": {},
   "outputs": [],
   "source": [
    "import numpy as np \n",
    "import cv2 as cv\n",
    "from matplotlib import pyplot as plt \n",
    "plt.hist(img.ravel(),256,[0,256])\n",
    "plt.show()\n",
    "cv.waitKey(0)\n",
    "cv.destroyAllWindows()"
   ]
  },
  {
   "cell_type": "code",
   "execution_count": null,
   "id": "5c3bfd73-59fd-44f1-a6f6-795a68e7430c",
   "metadata": {},
   "outputs": [],
   "source": [
    "import numpy as np \n",
    "import cv2 as cv\n",
    "from matplotlib import pyplot as plt \n",
    "# Compute the histogram\n",
    "hist = cv.calcHist([img], [0], None, [256], [0, 256])\n",
    "\n",
    "# Plot the histogram\n",
    "plt.plot(hist)\n",
    "plt.title('Histogram')\n",
    "plt.xlabel('Pixel Intensity')\n",
    "plt.ylabel('Frequency')\n",
    "plt.show()"
   ]
  },
  {
   "cell_type": "code",
   "execution_count": null,
   "id": "4b628d24-480d-4cc7-ae49-d7f7250468d5",
   "metadata": {},
   "outputs": [],
   "source": [
    "import numpy as np \n",
    "import cv2 as cv\n",
    "from matplotlib import pyplot as plt \n",
    "# Apply mean filter (kernel size 5x5)\n",
    "kernel_size = (5, 5)\n",
    "mean_filtered = cv.blur(img, kernel_size)\n",
    "\n",
    "# Display the original and filtered images\n",
    "plt.subplot(1, 2, 1)\n",
    "plt.title(\"Original Image\")\n",
    "plt.imshow(img, cmap='gray')\n",
    "\n",
    "plt.subplot(1, 2, 2)\n",
    "plt.title(\"Mean Filtered Image\")\n",
    "plt.imshow(mean_filtered, cmap='gray')\n",
    "\n",
    "plt.show()"
   ]
  },
  {
   "cell_type": "code",
   "execution_count": null,
   "id": "001b38f6-4551-4e00-827a-e01475ec2040",
   "metadata": {},
   "outputs": [],
   "source": [
    "import numpy as np \n",
    "import cv2 as cv\n",
    "from matplotlib import pyplot as plt \n",
    "\n",
    "kernel_size = (5, 5)  # Size of the kernel\n",
    "average_filtered = cv.blur(img, kernel_size)\n",
    "\n",
    "# Display the original and filtered images\n",
    "plt.figure(figsize=(10, 5))\n",
    "plt.subplot(1, 2, 1)\n",
    "plt.title(\"Original Image\")\n",
    "plt.imshow(img, cmap='gray')\n",
    "\n",
    "plt.subplot(1, 2, 2)\n",
    "plt.title(\"Average Filtered Image\")\n",
    "plt.imshow(average_filtered, cmap='gray')\n",
    "\n",
    "plt.show()"
   ]
  },
  {
   "cell_type": "code",
   "execution_count": null,
   "id": "85233c89-ec03-4dc9-a28c-5567a25a42f7",
   "metadata": {},
   "outputs": [],
   "source": [
    "import cv2 as cv\n",
    "import numpy as np\n",
    "from matplotlib import pyplot as plt\n",
    "\n",
    "def add_salt_pepper_noise(image, salt_prob, pepper_prob):\n",
    "    noisy_image = image.copy()\n",
    "    total_pixels = image.size\n",
    "    \n",
    "    # Add salt noise\n",
    "    num_salt = int(total_pixels * salt_prob)\n",
    "    salt_coords = [np.random.randint(0, i - 1, num_salt) for i in image.shape]\n",
    "    noisy_image[salt_coords[0], salt_coords[1]] = 255  # White pixels\n",
    "\n",
    "    # Add pepper noise\n",
    "    num_pepper = int(total_pixels * pepper_prob)\n",
    "    pepper_coords = [np.random.randint(0, i - 1, num_pepper) for i in image.shape]\n",
    "    noisy_image[pepper_coords[0], pepper_coords[1]] = 0  # Black pixels\n",
    "\n",
    "    return noisy_image\n",
    "    # Load an image\n",
    "img = cv2.imread('./read.img')\n",
    "\n",
    "# Add salt-and-pepper noise\n",
    "noisy_img = add_salt_pepper_noise(img, salt_prob=0.02, pepper_prob=0.02)\n",
    "\n",
    "\n",
    "plt.title(\"Salt-and-Pepper Noise\")\n",
    "plt.imshow(noisy_img, cmap='gray')\n",
    "plt.show()\n"
   ]
  },
  {
   "cell_type": "code",
   "execution_count": null,
   "id": "d7d89ba4-15c9-4c04-a9f6-a682be56ce69",
   "metadata": {},
   "outputs": [],
   "source": [
    "import cv2 as cv\n",
    "import numpy as np\n",
    "from matplotlib import pyplot as plt\n",
    "\n",
    "\n",
    "def add_uniform_noise(image, noise_range=(-50, 50)):\n",
    "    noisy_image = image.astype(np.float32) \n",
    "    noise = np.random.uniform(noise_range[0], noise_range[1], image.shape)\n",
    "    noisy_image += noise\n",
    "    noisy_image = np.clip(noisy_image, 0, 255)  \n",
    "    return noisy_image.astype(np.uint8)\n",
    "\n",
    "img = cv2.imread('./read.img')\n",
    "\n",
    "noisy_img = add_uniform_noise(img, noise_range=(-30, 30))\n",
    "\n",
    "\n",
    "plt.figure(figsize=(10, 5))\n",
    "\n",
    "plt.subplot(1, 2, 1)\n",
    "plt.title(\"Original Image\")\n",
    "plt.imshow(img, cmap='gray')\n",
    "plt.axis('off')\n",
    "\n",
    "plt.subplot(1, 2, 2)\n",
    "plt.title(\"Image with Uniform Noise\")\n",
    "plt.imshow(noisy_img, cmap='gray')\n",
    "plt.axis('off')\n",
    "\n",
    "plt.show()"
   ]
  },
  {
   "cell_type": "code",
   "execution_count": null,
   "id": "0ba921e7-6759-4ebd-a2fe-7bc24704de73",
   "metadata": {},
   "outputs": [],
   "source": [
    "gaussian_filtered = cv.GaussianBlur(noisy_img, (5, 5), 0)\n",
    "\n",
    "plt.title(\"After Gaussian Blur\")\n",
    "plt.imshow(gaussian_filtered, cmap='gray')\n",
    "plt.axis('off')\n",
    "plt.show()"
   ]
  },
  {
   "cell_type": "code",
   "execution_count": null,
   "id": "69daeb8a-cf2d-40a8-b217-452199087722",
   "metadata": {},
   "outputs": [],
   "source": [
    "import numpy as np\n",
    "from matplotlib import pyplot as plt\n",
    "\n",
    "\n",
    "def add_gaussian_noise(image, mean=0, stddev=25):\n",
    "    noisy_image = image.astype(np.float32)  \n",
    "    noise = np.random.normal(mean, stddev, image.shape)\n",
    "    noisy_image += noise\n",
    "    noisy_image = np.clip(noisy_image, 0, 255)  \n",
    "    return noisy_image.astype(np.uint8)\n",
    "\n",
    "\n",
    "img = cv2.imread('./read.img')\n",
    "\n",
    "noisy_img = add_gaussian_noise(img, mean=0, stddev=25)\n",
    "\n",
    "\n",
    "plt.figure(figsize=(10, 5))\n",
    "\n",
    "plt.subplot(1, 2, 1)\n",
    "plt.title(\"Original Image\")\n",
    "plt.imshow(img, cmap='gray')\n",
    "plt.axis('off')\n",
    "\n",
    "plt.subplot(1, 2, 2)\n",
    "plt.title(\"Image with Gaussian Noise\")\n",
    "plt.imshow(noisy_img, cmap='gray')\n",
    "plt.axis('off')\n",
    "\n",
    "plt.show()"
   ]
  },
  {
   "cell_type": "code",
   "execution_count": null,
   "id": "34201d56-a0a0-4662-a96a-316b3cc8d884",
   "metadata": {},
   "outputs": [],
   "source": [
    "gaussian_filtered = cv.GaussianBlur(noisy_img, (5, 5), 0)\n",
    "\n",
    "\n",
    "plt.title(\"After Gaussian Blur\")\n",
    "plt.imshow(gaussian_filtered, cmap='gray')\n",
    "plt.axis('off')\n",
    "plt.show()"
   ]
  }
 ],
 "metadata": {
  "kernelspec": {
   "display_name": "Python 3 (ipykernel)",
   "language": "python",
   "name": "python3"
  },
  "language_info": {
   "codemirror_mode": {
    "name": "ipython",
    "version": 3
   },
   "file_extension": ".py",
   "mimetype": "text/x-python",
   "name": "python",
   "nbconvert_exporter": "python",
   "pygments_lexer": "ipython3",
   "version": "3.11.7"
  }
 },
 "nbformat": 4,
 "nbformat_minor": 5
}
